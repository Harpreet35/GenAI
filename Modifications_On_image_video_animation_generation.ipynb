{
  "nbformat": 4,
  "nbformat_minor": 0,
  "metadata": {
    "colab": {
      "provenance": [],
      "include_colab_link": true
    },
    "kernelspec": {
      "name": "python3",
      "display_name": "Python 3"
    },
    "language_info": {
      "name": "python"
    }
  },
  "cells": [
    {
      "cell_type": "markdown",
      "metadata": {
        "id": "view-in-github",
        "colab_type": "text"
      },
      "source": [
        "<a href=\"https://colab.research.google.com/github/Harpreet35/GenAI/blob/main/Modifications_On_image_video_animation_generation.ipynb\" target=\"_parent\"><img src=\"https://colab.research.google.com/assets/colab-badge.svg\" alt=\"Open In Colab\"/></a>"
      ]
    },
    {
      "cell_type": "markdown",
      "source": [
        "# **TITLE** : **REPLICATE API FOR GENERATION OF IMAGES AND VIDEOS**\n",
        "\n",
        "# **Brief description of the Project scope :**\n",
        "\n",
        "The project's goal is to use generative AI to generate diverse and high-quality photos and GIFs. The scope includes investigating innovative applications, assuring scalability, and optimizing for a wide range of user preferences. The ultimate goal is to improve content generating capabilities using cutting-edge generative AI approaches.\n",
        "\n",
        "\n",
        "\n"
      ],
      "metadata": {
        "id": "ZWRrPYjU-FnH"
      }
    },
    {
      "cell_type": "markdown",
      "source": [
        "# **Group Members :**\n",
        "\n",
        "\n",
        "* Harpreet kaur\n",
        "    4348488\n",
        "* Sharbjit Kaur\n",
        "    4347563"
      ],
      "metadata": {
        "id": "8ugcCz4l9POS"
      }
    },
    {
      "cell_type": "markdown",
      "source": [
        "# **Detailed Project Description Cell**\n",
        "\n",
        "The primary goal of this project, which focuses on implementing cutting-edge generative artificial intelligence techniques, is the creation of images and GIFs. This project's scope involves extensive algorithmic study, model training, and artistic creative development in order to create a diverse range of high-quality visual content.\n",
        "\n",
        "Priority will be given to scalability, user customisation, and the introduction of innovative technologies in order to improve content development capabilities.\n",
        "\n",
        "\n",
        "\n",
        "\n",
        "## **Objectives** :\n",
        "\n",
        "- To begin, you should create a sophisticated Generative Adversarial Network (GAN) for the purpose of creating GIFs and photographs.\n",
        "-  Make use of Replicate to improve the performance of the model by benefiting from its intricate features.\n",
        "-  Integrate application programming interface (API) features to facilitate simple interaction with external data.\n",
        "-  Produce a diverse variety of outputs of a high quality while simultaneously optimizing scalability and optimization of efficiency.\n",
        "\n",
        "\n",
        "\n",
        "\n",
        "## **Outcomes**\n",
        "\n",
        "Give us an effective Generative Adversarial Network (GAN) that can handle Replicate input and produce a variety of high-quality images and GIFs.\n",
        "Second, show that the application programming interface (API) is easy to use and can accept data from outside sources to guarantee adaptability.\n",
        "Third, to check if the project was successful, use measurable performance indicators and customer reviews.\n",
        "\n",
        "\n",
        "\n",
        "\n",
        "\n",
        "\n",
        "\n",
        "\n"
      ],
      "metadata": {
        "id": "SJNvsyvv-jM1"
      }
    },
    {
      "cell_type": "markdown",
      "source": [
        "# **Modification/New Addition Specification**\n",
        "\n",
        "The product will also have an intuitive interface that lets users alter previously created images and GIFs in real time. Adaptive style transfer is one of the upcoming capabilities that will let users effortlessly apply different artistic styles.\n",
        "\n",
        "In order to assess the algorithm's efficacy, we will also build an evaluation framework. As a result, you can rest assured that the algorithm will consistently produce aesthetically pleasing and contextually relevant material.\n",
        "\n",
        "\n",
        "## **Impact**\n",
        "\n",
        "An interface that is easy to use and lets you switch between styles makes both user involvement and personalization better. This not only meets the needs of individual users, but it also makes generative AI more creative, making it into a tool that can be used in many different ways. By using the assessment method, you can be sure that the content you create is reliable and of high quality. This shows how important the project is for creating powerful visual experiences that are focused on the user.\n",
        "\n",
        "\n",
        "\n"
      ],
      "metadata": {
        "id": "DDwC-cRK2C_x"
      }
    },
    {
      "cell_type": "markdown",
      "source": [
        "# **Criteria-Specific Cell**\n",
        "\n",
        "## **Generative Images/GIFs/Videos with Replicate API Relevance**\n",
        "\n",
        "* Creative Expression: Using Replicate API, this project created new, AI-generated visual content (pictures, GIFs, videos) to promote digital media creativity.\n",
        "* Entertainment and Marketing: Generative images and dynamic GIFs/videos are useful in entertainment, marketing, and social media, where audience engagement depends on visual content.\n",
        "* AI Advancements: It highlights AI-generated content's potential in numerous businesses and its relevance in technology and art's changing landscape.\n",
        "\n",
        "## **Innovation**\n",
        "\n",
        "* Novel Generative Techniques: Using Replicate API to produce appealing visual content using cutting-edge generative algorithms and models, exploring new AI-generated creativity.\n",
        "* The Replicate API's real-time content generating features are used to create dynamic content including evolving images, interactive GIFs, and AI-generated films.\n",
        "* Customizable Artistic Elements: Innovative features let users customize and control the generative process, creating a personalized image and video production experience.\n",
        "\n",
        "## **Technical Skills**\n",
        "\n",
        "* Implementing Replicate API-supported AI models and algorithms with technical skill to produce accurate and high-quality generating results.\n",
        "* Optimized Resource Utilization: Skill in using Replicate API to efficiently generate high-resolution photos, smooth GIFs, and movies, ensuring quality and performance.\n",
        "* Integration and API Use: Expertise in integrating Replicate API into the project process to maximize its generative content development and feature use.\n"
      ],
      "metadata": {
        "id": "6cfvQgVYFl6W"
      }
    },
    {
      "cell_type": "markdown",
      "source": [
        "# **1.**The provided code, which makes use of Python's pip package management, installs the \"Replicate\" package.\n",
        "\n",
        "\n"
      ],
      "metadata": {
        "id": "vKzL0U3a6wlx"
      }
    },
    {
      "cell_type": "code",
      "execution_count": null,
      "metadata": {
        "colab": {
          "base_uri": "https://localhost:8080/"
        },
        "id": "CjlbJnxO2w-h",
        "outputId": "a51686d0-f453-40c0-e933-6584e6845370"
      },
      "outputs": [
        {
          "output_type": "stream",
          "name": "stdout",
          "text": [
            "Collecting replicate\n",
            "  Downloading replicate-0.21.0-py3-none-any.whl (34 kB)\n",
            "Collecting httpx<1,>=0.21.0 (from replicate)\n",
            "  Downloading httpx-0.25.2-py3-none-any.whl (74 kB)\n",
            "\u001b[2K     \u001b[90m━━━━━━━━━━━━━━━━━━━━━━━━━━━━━━━━━━━━━━━━\u001b[0m \u001b[32m75.0/75.0 kB\u001b[0m \u001b[31m4.0 MB/s\u001b[0m eta \u001b[36m0:00:00\u001b[0m\n",
            "\u001b[?25hRequirement already satisfied: packaging in /usr/local/lib/python3.10/dist-packages (from replicate) (23.2)\n",
            "Requirement already satisfied: pydantic>1 in /usr/local/lib/python3.10/dist-packages (from replicate) (1.10.13)\n",
            "Requirement already satisfied: typing-extensions>=4.5.0 in /usr/local/lib/python3.10/dist-packages (from replicate) (4.5.0)\n",
            "Requirement already satisfied: anyio in /usr/local/lib/python3.10/dist-packages (from httpx<1,>=0.21.0->replicate) (3.7.1)\n",
            "Requirement already satisfied: certifi in /usr/local/lib/python3.10/dist-packages (from httpx<1,>=0.21.0->replicate) (2023.11.17)\n",
            "Collecting httpcore==1.* (from httpx<1,>=0.21.0->replicate)\n",
            "  Downloading httpcore-1.0.2-py3-none-any.whl (76 kB)\n",
            "\u001b[2K     \u001b[90m━━━━━━━━━━━━━━━━━━━━━━━━━━━━━━━━━━━━━━━━\u001b[0m \u001b[32m76.9/76.9 kB\u001b[0m \u001b[31m7.8 MB/s\u001b[0m eta \u001b[36m0:00:00\u001b[0m\n",
            "\u001b[?25hRequirement already satisfied: idna in /usr/local/lib/python3.10/dist-packages (from httpx<1,>=0.21.0->replicate) (3.6)\n",
            "Requirement already satisfied: sniffio in /usr/local/lib/python3.10/dist-packages (from httpx<1,>=0.21.0->replicate) (1.3.0)\n",
            "Collecting h11<0.15,>=0.13 (from httpcore==1.*->httpx<1,>=0.21.0->replicate)\n",
            "  Downloading h11-0.14.0-py3-none-any.whl (58 kB)\n",
            "\u001b[2K     \u001b[90m━━━━━━━━━━━━━━━━━━━━━━━━━━━━━━━━━━━━━━━━\u001b[0m \u001b[32m58.3/58.3 kB\u001b[0m \u001b[31m8.5 MB/s\u001b[0m eta \u001b[36m0:00:00\u001b[0m\n",
            "\u001b[?25hRequirement already satisfied: exceptiongroup in /usr/local/lib/python3.10/dist-packages (from anyio->httpx<1,>=0.21.0->replicate) (1.2.0)\n",
            "Installing collected packages: h11, httpcore, httpx, replicate\n",
            "Successfully installed h11-0.14.0 httpcore-1.0.2 httpx-0.25.2 replicate-0.21.0\n"
          ]
        }
      ],
      "source": [
        "# @title Install Replicate\n",
        "!pip install replicate\n"
      ]
    },
    {
      "cell_type": "markdown",
      "source": [
        "# **2.**This Python code uses an environment variable to store a Replicate API token, which simplifies authentication.\n",
        "\n",
        "\n"
      ],
      "metadata": {
        "id": "-EtGiSrD69zX"
      }
    },
    {
      "cell_type": "code",
      "source": [
        "API = \"r8_9YKQ8XlBvhqGYPdR2I07SPZlSsn7PqW3cV6Jj\"\n",
        "import os\n",
        "\n",
        "os.environ[\"REPLICATE_API_TOKEN\"] = API #find it here: https://replicate.com/signin?next=/account/api-tokens\n"
      ],
      "metadata": {
        "id": "zX0YyZI_3dx6"
      },
      "execution_count": null,
      "outputs": []
    },
    {
      "cell_type": "markdown",
      "source": [
        "# **3.** Following the prompt \"Person Running on Treadmill\" and employing steady diffusion, the code described above generates an image using the duplicate package.\n",
        "\n",
        "\n"
      ],
      "metadata": {
        "id": "sH5YFxFX7NVP"
      }
    },
    {
      "cell_type": "code",
      "source": [
        "# @title Generate Image\n",
        "prompt = \"Person running on trademill\"\n",
        "import replicate\n",
        "\n",
        "output = replicate.run(\n",
        "  \"stability-ai/stable-diffusion:27b93a2413e7f36cd83da926f3656280b2931564ff050bf9575f1fdf9bcd7478\",\n",
        "  input={\"prompt\":prompt}\n",
        ")\n",
        "\n",
        "output"
      ],
      "metadata": {
        "colab": {
          "base_uri": "https://localhost:8080/"
        },
        "id": "b9jB54-K3p48",
        "outputId": "bbedcf42-ee8b-4b17-e16d-577f1b52604c"
      },
      "execution_count": null,
      "outputs": [
        {
          "output_type": "execute_result",
          "data": {
            "text/plain": [
              "['https://replicate.delivery/pbxt/OO728mjDVSJBHlQHdkJpbKlpJjpo3u6d2CfSrkk3nPEw5NfRA/out-0.png']"
            ]
          },
          "metadata": {},
          "execution_count": 3
        }
      ]
    },
    {
      "cell_type": "markdown",
      "source": [
        "# **4.** The supplied Python code displays an image specified by the URL stored in the 'output_image[0]' variable by using the IPython Image module.\n",
        "\n"
      ],
      "metadata": {
        "id": "kw6QYycd7SVR"
      }
    },
    {
      "cell_type": "code",
      "source": [
        "\n",
        "from IPython.display import Image\n",
        "output_image = output\n",
        "Image(url=output_image[0])"
      ],
      "metadata": {
        "colab": {
          "base_uri": "https://localhost:8080/",
          "height": 533
        },
        "id": "7JWCVDHf3sYu",
        "outputId": "51e1250e-0918-4441-99ec-4b72ba7edd5e"
      },
      "execution_count": null,
      "outputs": [
        {
          "output_type": "execute_result",
          "data": {
            "text/html": [
              "<img src=\"https://replicate.delivery/pbxt/OO728mjDVSJBHlQHdkJpbKlpJjpo3u6d2CfSrkk3nPEw5NfRA/out-0.png\"/>"
            ],
            "text/plain": [
              "<IPython.core.display.Image object>"
            ]
          },
          "metadata": {},
          "execution_count": 5
        }
      ]
    },
    {
      "cell_type": "markdown",
      "source": [
        "# **5.** The provided code uses the Replicate API to create a gif animation that transitions from \"person running on road\" to \"person falling on road\" with a ping-pong effect.\n",
        "\n"
      ],
      "metadata": {
        "id": "U4dvFuOo7oxG"
      }
    },
    {
      "cell_type": "code",
      "source": [
        "# @title Video/gif/animation/Generation\n",
        "import replicate\n",
        "\n",
        "output = replicate.run(\n",
        "    \"andreasjansson/stable-diffusion-animation:ca1f5e306e5721e19c473e0d094e6603f0456fe759c10715fcd6c1b79242d4a5\",\n",
        "    input={\n",
        "        \"prompt_start\": \"Person running on road\",\n",
        "        \"prompt_end\": \"Person fall on road\",\n",
        "        \"output_format\": \"gif\",\n",
        "        \"gif_ping_pong\": True\n",
        "    }\n",
        ")\n",
        "\n",
        "output\n"
      ],
      "metadata": {
        "colab": {
          "base_uri": "https://localhost:8080/"
        },
        "id": "6Owfxz0V3uov",
        "outputId": "37508f88-a91b-4133-c606-b53d3c609d1a"
      },
      "execution_count": null,
      "outputs": [
        {
          "output_type": "execute_result",
          "data": {
            "text/plain": [
              "<generator object Prediction.output_iterator at 0x7c091b28d1c0>"
            ]
          },
          "metadata": {},
          "execution_count": 6
        }
      ]
    },
    {
      "cell_type": "markdown",
      "source": [
        "# **6.** The 'output' variable, which represents the film generation process, is iterated over in this Python function.\n",
        "\n"
      ],
      "metadata": {
        "id": "5G1iqzb-76Jo"
      }
    },
    {
      "cell_type": "code",
      "source": [
        "# @title generate video\n",
        "for item in output:\n",
        "     #https://replicate.com/andreasjansson/stable-diffusion-animation/versions/ca1f5e306e5721e19c473e0d094e6603f0456fe759c10715fcd6c1b79242d4a5/api#output-schema\n",
        "    print(item)"
      ],
      "metadata": {
        "colab": {
          "base_uri": "https://localhost:8080/"
        },
        "id": "1bkyp74E3wcl",
        "outputId": "9169a74b-152e-43a0-c061-3d56012ed4a8"
      },
      "execution_count": null,
      "outputs": [
        {
          "output_type": "stream",
          "name": "stdout",
          "text": [
            "https://replicate.delivery/pbxt/6JlRBGhNp475MJ48TawR5gQROe17cEU132JeuORKd8cS3bejA/video.gif\n"
          ]
        }
      ]
    },
    {
      "cell_type": "markdown",
      "source": [
        "# **7.** Under the assumption that a video retrieval method is being carried out in Colab, this code makes an attempt to correlate a slice of the item variable with the variable gif_url.\n",
        "\n"
      ],
      "metadata": {
        "id": "WK4etb_78Jq2"
      }
    },
    {
      "cell_type": "code",
      "source": [
        "\n",
        "# @title get the video on colab\n",
        "gif_url= item[0:len(item)]"
      ],
      "metadata": {
        "id": "exOI3-Rd3yn8"
      },
      "execution_count": null,
      "outputs": []
    },
    {
      "cell_type": "markdown",
      "source": [
        "# **8.** This Python code gets a GIF from a URL, shows it in a Jupyter notebook, stores it locally, and then opens and displays it using PIL.\n",
        "\n"
      ],
      "metadata": {
        "id": "0J2u0K738Mk1"
      }
    },
    {
      "cell_type": "code",
      "source": [
        "# @title Show the video\n",
        "import requests\n",
        "from IPython.display import display, Image\n",
        "from PIL import Image as PILImage\n",
        "from io import BytesIO\n",
        "response = requests.get(gif_url)\n",
        "if response.status_code == 200:\n",
        "    # To Ddisplay the GIF in the notebook\n",
        "    display(Image(url=gif_url))\n",
        "\n",
        "    # To save the GIF in the Colab environment\n",
        "    with open(\"gif_output.gif\", \"wb\") as f:\n",
        "        f.write(response.content)\n",
        "\n",
        "    # TO show a saved GIF using PIL\n",
        "    saved_gif = PILImage.open(\"gif_output.gif\")\n",
        "    saved_gif.show()\n",
        "else:\n",
        "    print(\"Failed to fetch GIF\")\n"
      ],
      "metadata": {
        "colab": {
          "base_uri": "https://localhost:8080/",
          "height": 533
        },
        "id": "whx-a5Ne319x",
        "outputId": "ebdc0ed7-5fcc-4171-b336-12a9fbce9fe8"
      },
      "execution_count": null,
      "outputs": [
        {
          "output_type": "display_data",
          "data": {
            "text/html": [
              "<img src=\"https://replicate.delivery/pbxt/6JlRBGhNp475MJ48TawR5gQROe17cEU132JeuORKd8cS3bejA/video.gif\"/>"
            ],
            "text/plain": [
              "<IPython.core.display.Image object>"
            ]
          },
          "metadata": {}
        }
      ]
    },
    {
      "cell_type": "markdown",
      "source": [
        "# **REFERENCES**\n",
        "\n",
        "* Turna GitHub - turna1/GenAI: Here, we focus on educating and enlightening the community about various Generative AI models through hands-on coding tutorials and informative articles. https://github.com/turna1/GenAI\n",
        "\n",
        "* Replicate Tokens. https://replicate.com/account/api-tokens\n",
        "\n",
        "* Google Colab . https://colab.google/"
      ],
      "metadata": {
        "id": "gdi6nuQbG9U6"
      }
    },
    {
      "cell_type": "markdown",
      "source": [
        "\n",
        "# **VIDEO PRESENTATION LINK**"
      ],
      "metadata": {
        "id": "NnHs-jd0HCvd"
      }
    },
    {
      "cell_type": "markdown",
      "source": [
        "\n",
        "# **Thank You**\n",
        "\n"
      ],
      "metadata": {
        "id": "HyYFTY6SLLok"
      }
    }
  ]
}